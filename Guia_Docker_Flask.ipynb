{
  "cells": [
    {
      "cell_type": "markdown",
      "metadata": {
        "id": "view-in-github",
        "colab_type": "text"
      },
      "source": [
        "<a href=\"https://colab.research.google.com/github/apchavezr/16.-Aprendizaje-Profundo-para-Ciencia-de-Datos/blob/main/Guia_Docker_Flask.ipynb\" target=\"_parent\"><img src=\"https://colab.research.google.com/assets/colab-badge.svg\" alt=\"Open In Colab\"/></a>"
      ]
    },
    {
      "cell_type": "markdown",
      "id": "50ce5897",
      "metadata": {
        "id": "50ce5897"
      },
      "source": [
        "# Guía básica de un despliegue de una aplicación Flask en Docker\n",
        "\n",
        "Este cuaderno guiará paso a paso a los estudiantes para crear una aplicación básica en Flask, contenerizarla con Docker, y ejecutarla localmente.\n",
        "\n",
        "---\n",
        "## Objetivo\n",
        "Desarrollar una aplicación mínima de Flask, empaquetarla en una imagen Docker y exponerla localmente en el puerto 5000.\n",
        "\n",
        "---\n",
        "## 1. Crear el archivo de la aplicación Flask (`app.py`)\n",
        "```python\n",
        "from flask import Flask\n",
        "app = Flask(__name__)\n",
        "\n",
        "@app.route('/')\n",
        "def home():\n",
        "    return '¡Hola desde Flask en Docker!'\n",
        "\n",
        "if __name__ == '__main__':\n",
        "    app.run(host='0.0.0.0', port=5000)\n",
        "```\n",
        "\n",
        "---\n",
        "## 2. Crear el archivo `requirements.txt`\n",
        "```\n",
        "Flask==2.3.2\n",
        "```\n",
        "\n",
        "---\n",
        "## 3. Crear el `Dockerfile`\n",
        "```Dockerfile\n",
        "FROM python:3.9-slim\n",
        "WORKDIR /app\n",
        "COPY requirements.txt .\n",
        "RUN pip install --no-cache-dir -r requirements.txt\n",
        "COPY app.py .\n",
        "EXPOSE 5000\n",
        "CMD [\"python\", \"app.py\"]\n",
        "```\n",
        "\n",
        "---\n",
        "## 4. Construir la imagen Docker\n",
        "Ejecutar en terminal:\n",
        "```bash\n",
        "docker build -t flask-ejemplo .\n",
        "```\n",
        "\n",
        "---\n",
        "## 5. Ejecutar el contenedor\n",
        "```bash\n",
        "docker run -d -p 5000:5000 flask-ejemplo\n",
        "```\n",
        "\n",
        "---\n",
        "## Verificación\n",
        "Abrir un navegador y acceder a: [http://localhost:5000](http://localhost:5000)\n",
        "\n",
        "Debería ver: **¡Hola desde Flask en Docker!**\n"
      ]
    }
  ],
  "metadata": {
    "kernelspec": {
      "display_name": "Python 3",
      "language": "python",
      "name": "python3"
    },
    "language_info": {
      "name": "python",
      "version": "3.9"
    },
    "colab": {
      "provenance": [],
      "include_colab_link": true
    }
  },
  "nbformat": 4,
  "nbformat_minor": 5
}