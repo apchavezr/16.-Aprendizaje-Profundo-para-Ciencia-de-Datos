{
  "cells": [
    {
      "cell_type": "markdown",
      "metadata": {
        "id": "view-in-github",
        "colab_type": "text"
      },
      "source": [
        "<a href=\"https://colab.research.google.com/github/apchavezr/16.-Aprendizaje-Profundo-para-Ciencia-de-Datos/blob/main/CNN_MNIST_Ejercicio.ipynb\" target=\"_parent\"><img src=\"https://colab.research.google.com/assets/colab-badge.svg\" alt=\"Open In Colab\"/></a>"
      ]
    },
    {
      "cell_type": "markdown",
      "id": "3ae18ebf",
      "metadata": {
        "id": "3ae18ebf"
      },
      "source": [
        "# Clasificación de imágenes con CNN: Reconocimiento de dígitos manuscritos\n",
        "\n",
        "## Introducción al problema\n",
        "El objetivo de este ejercicio es implementar una red neuronal convolucional (CNN) para clasificar imágenes de dígitos escritos a mano utilizando el conjunto de datos MNIST. Este conjunto contiene 60.000 imágenes para entrenamiento y 10.000 para prueba, cada una de 28x28 píxeles en escala de grises.\n",
        "\n",
        "Las CNN son especialmente útiles en este contexto porque pueden aprender patrones espaciales locales, como curvas y líneas, que caracterizan visualmente los dígitos manuscritos.\n"
      ]
    },
    {
      "cell_type": "markdown",
      "id": "19f586da",
      "metadata": {
        "id": "19f586da"
      },
      "source": [
        "## Carga y preprocesamiento de datos"
      ]
    },
    {
      "cell_type": "code",
      "execution_count": 1,
      "id": "731fe317",
      "metadata": {
        "colab": {
          "base_uri": "https://localhost:8080/"
        },
        "id": "731fe317",
        "outputId": "a6fe5100-6b04-4c56-b0f2-dfdcb9bb75c3"
      },
      "outputs": [
        {
          "output_type": "stream",
          "name": "stdout",
          "text": [
            "Downloading data from https://storage.googleapis.com/tensorflow/tf-keras-datasets/mnist.npz\n",
            "\u001b[1m11490434/11490434\u001b[0m \u001b[32m━━━━━━━━━━━━━━━━━━━━\u001b[0m\u001b[37m\u001b[0m \u001b[1m0s\u001b[0m 0us/step\n",
            "Tamaño del conjunto de entrenamiento: (60000, 28, 28, 1)\n",
            "Tamaño del conjunto de prueba: (10000, 28, 28, 1)\n"
          ]
        }
      ],
      "source": [
        "import numpy as np\n",
        "import matplotlib.pyplot as plt\n",
        "from tensorflow.keras.datasets import mnist\n",
        "from tensorflow.keras.utils import to_categorical\n",
        "\n",
        "# Cargar los datos\n",
        "(x_train, y_train), (x_test, y_test) = mnist.load_data()\n",
        "\n",
        "# Normalizar a valores entre 0 y 1\n",
        "x_train = x_train.astype(\"float32\") / 255\n",
        "x_test = x_test.astype(\"float32\") / 255\n",
        "\n",
        "# Cambiar la forma para que tenga canal (28, 28, 1)\n",
        "x_train = x_train.reshape((-1, 28, 28, 1))\n",
        "x_test = x_test.reshape((-1, 28, 28, 1))\n",
        "\n",
        "# One-hot encoding de las etiquetas\n",
        "y_train = to_categorical(y_train, 10)\n",
        "y_test = to_categorical(y_test, 10)\n",
        "\n",
        "print(\"Tamaño del conjunto de entrenamiento:\", x_train.shape)\n",
        "print(\"Tamaño del conjunto de prueba:\", x_test.shape)"
      ]
    },
    {
      "cell_type": "markdown",
      "id": "5495696b",
      "metadata": {
        "id": "5495696b"
      },
      "source": [
        "## Definición y entrenamiento del modelo"
      ]
    },
    {
      "cell_type": "code",
      "execution_count": 2,
      "id": "da7715fa",
      "metadata": {
        "colab": {
          "base_uri": "https://localhost:8080/"
        },
        "id": "da7715fa",
        "outputId": "43ca72f3-81fc-438a-cf6f-bd98904cc459"
      },
      "outputs": [
        {
          "output_type": "stream",
          "name": "stderr",
          "text": [
            "/usr/local/lib/python3.11/dist-packages/keras/src/layers/convolutional/base_conv.py:107: UserWarning: Do not pass an `input_shape`/`input_dim` argument to a layer. When using Sequential models, prefer using an `Input(shape)` object as the first layer in the model instead.\n",
            "  super().__init__(activity_regularizer=activity_regularizer, **kwargs)\n"
          ]
        },
        {
          "output_type": "stream",
          "name": "stdout",
          "text": [
            "Epoch 1/5\n",
            "\u001b[1m422/422\u001b[0m \u001b[32m━━━━━━━━━━━━━━━━━━━━\u001b[0m\u001b[37m\u001b[0m \u001b[1m42s\u001b[0m 96ms/step - accuracy: 0.8552 - loss: 0.4972 - val_accuracy: 0.9783 - val_loss: 0.0673\n",
            "Epoch 2/5\n",
            "\u001b[1m422/422\u001b[0m \u001b[32m━━━━━━━━━━━━━━━━━━━━\u001b[0m\u001b[37m\u001b[0m \u001b[1m40s\u001b[0m 94ms/step - accuracy: 0.9804 - loss: 0.0626 - val_accuracy: 0.9867 - val_loss: 0.0510\n",
            "Epoch 3/5\n",
            "\u001b[1m422/422\u001b[0m \u001b[32m━━━━━━━━━━━━━━━━━━━━\u001b[0m\u001b[37m\u001b[0m \u001b[1m40s\u001b[0m 92ms/step - accuracy: 0.9863 - loss: 0.0444 - val_accuracy: 0.9882 - val_loss: 0.0409\n",
            "Epoch 4/5\n",
            "\u001b[1m422/422\u001b[0m \u001b[32m━━━━━━━━━━━━━━━━━━━━\u001b[0m\u001b[37m\u001b[0m \u001b[1m40s\u001b[0m 91ms/step - accuracy: 0.9899 - loss: 0.0327 - val_accuracy: 0.9895 - val_loss: 0.0351\n",
            "Epoch 5/5\n",
            "\u001b[1m422/422\u001b[0m \u001b[32m━━━━━━━━━━━━━━━━━━━━\u001b[0m\u001b[37m\u001b[0m \u001b[1m41s\u001b[0m 92ms/step - accuracy: 0.9930 - loss: 0.0246 - val_accuracy: 0.9893 - val_loss: 0.0377\n"
          ]
        }
      ],
      "source": [
        "from tensorflow.keras.models import Sequential\n",
        "from tensorflow.keras.layers import Conv2D, MaxPooling2D, Flatten, Dense\n",
        "\n",
        "# Definir el modelo\n",
        "model = Sequential([\n",
        "    Conv2D(32, (3,3), activation='relu', input_shape=(28, 28, 1)),\n",
        "    MaxPooling2D(pool_size=(2,2)),\n",
        "    Conv2D(64, (3,3), activation='relu'),\n",
        "    MaxPooling2D(pool_size=(2,2)),\n",
        "    Flatten(),\n",
        "    Dense(128, activation='relu'),\n",
        "    Dense(10, activation='softmax')\n",
        "])\n",
        "\n",
        "# Compilar el modelo\n",
        "model.compile(optimizer='adam', loss='categorical_crossentropy', metrics=['accuracy'])\n",
        "\n",
        "# Entrenar el modelo\n",
        "history = model.fit(x_train, y_train, epochs=5, batch_size=128, validation_split=0.1)"
      ]
    },
    {
      "cell_type": "markdown",
      "id": "93a3bf23",
      "metadata": {
        "id": "93a3bf23"
      },
      "source": [
        "## Evaluación del rendimiento"
      ]
    },
    {
      "cell_type": "code",
      "execution_count": 3,
      "id": "69c209de",
      "metadata": {
        "colab": {
          "base_uri": "https://localhost:8080/"
        },
        "id": "69c209de",
        "outputId": "700edce7-4d71-412b-afc0-5e867f75e11c"
      },
      "outputs": [
        {
          "output_type": "stream",
          "name": "stdout",
          "text": [
            "\u001b[1m313/313\u001b[0m \u001b[32m━━━━━━━━━━━━━━━━━━━━\u001b[0m\u001b[37m\u001b[0m \u001b[1m4s\u001b[0m 11ms/step - accuracy: 0.9865 - loss: 0.0385\n",
            "Precisión en el conjunto de prueba: 0.9903\n"
          ]
        }
      ],
      "source": [
        "test_loss, test_accuracy = model.evaluate(x_test, y_test)\n",
        "print(f\"Precisión en el conjunto de prueba: {test_accuracy:.4f}\")"
      ]
    },
    {
      "cell_type": "markdown",
      "source": [
        "El resultado obtenido fue una precisión de prueba de 0.9903, lo que equivale a una tasa de aciertos del 99.03 %. Además, se reportó una función de pérdida de 0.0385, lo cual indica que el modelo presenta una baja discrepancia entre las predicciones realizadas y las etiquetas verdaderas del conjunto de prueba."
      ],
      "metadata": {
        "id": "DL8YrxlpTqts"
      },
      "id": "DL8YrxlpTqts"
    },
    {
      "cell_type": "markdown",
      "id": "b11e6448",
      "metadata": {
        "id": "b11e6448"
      },
      "source": [
        "## Análisis e interpretación de resultados"
      ]
    },
    {
      "cell_type": "code",
      "execution_count": 4,
      "id": "93ec2b82",
      "metadata": {
        "colab": {
          "base_uri": "https://localhost:8080/",
          "height": 474
        },
        "id": "93ec2b82",
        "outputId": "ab269355-78ad-4800-854a-c34d98fec5c6"
      },
      "outputs": [
        {
          "output_type": "display_data",
          "data": {
            "text/plain": [
              "<Figure size 640x480 with 1 Axes>"
            ],
            "image/png": "[encoded data removed]"
          },
          "metadata": {}
        }
      ],
      "source": [
        "# Curvas de precisión\n",
        "plt.plot(history.history['accuracy'], label='Entrenamiento')\n",
        "plt.plot(history.history['val_accuracy'], label='Validación')\n",
        "plt.title('Curva de precisión')\n",
        "plt.xlabel('Épocas')\n",
        "plt.ylabel('Precisión')\n",
        "plt.legend()\n",
        "plt.show()"
      ]
    },
    {
      "cell_type": "markdown",
      "source": [
        "La gráfica muestra la evolución de la precisión (accuracy) del modelo CNN durante el entrenamiento en el conjunto de datos MNIST, evaluada tanto sobre el conjunto de entrenamiento como sobre el conjunto de validación, a lo largo de 5 épocas.\n",
        "\n",
        "\n",
        "* **Crecimiento rápido de precisión desde la primera época:**  Desde el inicio, ambas curvas (entrenamiento y validación) presentan un crecimiento pronunciado. Esto es esperable dado que el conjunto MNIST es relativamente sencillo y los patrones visuales de los dígitos son consistentes y repetitivos. El modelo aprende rápidamente a reconocer las estructuras básicas de los dígitos.\n",
        "\n",
        "*  **Desempeño alto y estable:**   La precisión del conjunto de validación se mantiene alrededor del 99 % desde la segunda época, lo cual sugiere una muy buena capacidad de generalización del modelo. La curva de entrenamiento sigue ascendiendo levemente, alcanzando valores apenas superiores al 99 %.\n",
        "\n",
        "*  **Ausencia de sobreajuste significativo:**  A diferencia de otros escenarios comunes en redes neuronales, aquí no se observa una brecha significativa entre entrenamiento y validación, lo que indica que el modelo no está sobreajustando. El comportamiento paralelo de ambas curvas es una señal positiva de que el aprendizaje es consistente y equilibrado.\n",
        "\n",
        "*   **Posible convergencia temprana:**   Dado que la curva de validación se estabiliza rápidamente y no mejora significativamente después de la segunda o tercera época, es razonable pensar que el modelo ha convergido a una solución óptima en pocas iteraciones. Esto abre la posibilidad de usar técnicas como early stopping para evitar entrenamiento innecesario."
      ],
      "metadata": {
        "id": "4Z33Tz8mUVqo"
      },
      "id": "4Z33Tz8mUVqo"
    }
  ],
  "metadata": {
    "colab": {
      "provenance": [],
      "include_colab_link": true
    },
    "language_info": {
      "name": "python"
    },
    "kernelspec": {
      "name": "python3",
      "display_name": "Python 3"
    }
  },
  "nbformat": 4,
  "nbformat_minor": 5
}