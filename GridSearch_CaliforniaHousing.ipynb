{
  "cells": [
    {
      "cell_type": "markdown",
      "metadata": {
        "id": "view-in-github",
        "colab_type": "text"
      },
      "source": [
        "<a href=\"https://colab.research.google.com/github/apchavezr/16.-Aprendizaje-Profundo-para-Ciencia-de-Datos/blob/main/GridSearch_CaliforniaHousing.ipynb\" target=\"_parent\"><img src=\"https://colab.research.google.com/assets/colab-badge.svg\" alt=\"Open In Colab\"/></a>"
      ]
    },
    {
      "cell_type": "markdown",
      "id": "78e1de90",
      "metadata": {
        "id": "78e1de90"
      },
      "source": [
        "# Ajuste de hiperparámetros con GridSearchCV\n",
        "\n",
        "## Objetivo\n",
        "Evaluar combinaciones de hiperparámetros en un modelo de árbol de regresión usando el conjunto de datos California Housing. Se utilizará `GridSearchCV` para seleccionar la mejor configuración basada en validación cruzada."
      ]
    },
    {
      "cell_type": "code",
      "execution_count": 1,
      "id": "ef94e30c",
      "metadata": {
        "id": "ef94e30c"
      },
      "outputs": [],
      "source": [
        "# Importar librerías necesarias\n",
        "from sklearn.datasets import fetch_california_housing\n",
        "from sklearn.tree import DecisionTreeRegressor\n",
        "from sklearn.model_selection import train_test_split, GridSearchCV\n",
        "import pandas as pd"
      ]
    },
    {
      "cell_type": "markdown",
      "id": "10875d87",
      "metadata": {
        "id": "10875d87"
      },
      "source": [
        "## Paso 1: cargar los datos y dividirlos"
      ]
    },
    {
      "cell_type": "code",
      "execution_count": 2,
      "id": "a7199f13",
      "metadata": {
        "id": "a7199f13"
      },
      "outputs": [],
      "source": [
        "# Cargar el conjunto de datos California Housing\n",
        "X, y = fetch_california_housing(return_X_y=True)\n",
        "\n",
        "# División en conjunto de entrenamiento y prueba\n",
        "X_train, X_test, y_train, y_test = train_test_split(\n",
        "    X, y, test_size=0.3, random_state=42)"
      ]
    },
    {
      "cell_type": "markdown",
      "id": "5e8065af",
      "metadata": {
        "id": "5e8065af"
      },
      "source": [
        "## Paso 2: definir el modelo base y el espacio de búsqueda"
      ]
    },
    {
      "cell_type": "code",
      "execution_count": 3,
      "id": "37120137",
      "metadata": {
        "id": "37120137"
      },
      "outputs": [],
      "source": [
        "# Modelo base\n",
        "model = DecisionTreeRegressor(random_state=42)\n",
        "\n",
        "# Espacio de búsqueda de hiperparámetros\n",
        "param_grid = {\n",
        "    'max_depth': [3, 5, 10],\n",
        "    'min_samples_split': [2, 5, 10]\n",
        "}"
      ]
    },
    {
      "cell_type": "markdown",
      "id": "346cf80f",
      "metadata": {
        "id": "346cf80f"
      },
      "source": [
        "## Paso 3: aplicar GridSearchCV"
      ]
    },
    {
      "cell_type": "code",
      "execution_count": 4,
      "id": "33136e93",
      "metadata": {
        "colab": {
          "base_uri": "https://localhost:8080/"
        },
        "id": "33136e93",
        "outputId": "7fadabb3-3487-41ea-fbd3-355be229d0cd"
      },
      "outputs": [
        {
          "output_type": "stream",
          "name": "stdout",
          "text": [
            "Mejores parámetros: {'max_depth': 10, 'min_samples_split': 10}\n"
          ]
        }
      ],
      "source": [
        "# Configuración del GridSearch con validación cruzada de 5 folds\n",
        "grid = GridSearchCV(estimator=model, param_grid=param_grid, cv=5)\n",
        "grid.fit(X_train, y_train)\n",
        "\n",
        "# Extraer los mejores parámetros\n",
        "best_params = grid.best_params_\n",
        "print(\"Mejores parámetros:\", best_params)"
      ]
    },
    {
      "cell_type": "markdown",
      "id": "7a098e9f",
      "metadata": {
        "id": "7a098e9f"
      },
      "source": [
        "## Paso 4: mostrar los resultados"
      ]
    },
    {
      "cell_type": "code",
      "execution_count": 5,
      "id": "cd4633a8",
      "metadata": {
        "colab": {
          "base_uri": "https://localhost:8080/",
          "height": 332
        },
        "id": "cd4633a8",
        "outputId": "129985ac-0f9f-48a4-e6b2-31a7f399250b"
      },
      "outputs": [
        {
          "output_type": "execute_result",
          "data": {
            "text/plain": [
              "   param_max_depth  param_min_samples_split  mean_test_score\n",
              "8               10                       10         0.678019\n",
              "7               10                        5         0.665532\n",
              "6               10                        2         0.662309\n",
              "4                5                        5         0.615593\n",
              "3                5                        2         0.615312\n",
              "5                5                       10         0.614967\n",
              "0                3                        2         0.524227\n",
              "1                3                        5         0.524227\n",
              "2                3                       10         0.524227"
            ],
            "text/html": [
              "\n",
              "  <div id=\"df-b813b3f6-7fce-4eae-a6ff-6b354834672b\" class=\"colab-df-container\">\n",
              "    <div>\n",
              "<style scoped>\n",
              "    .dataframe tbody tr th:only-of-type {\n",
              "        vertical-align: middle;\n",
              "    }\n",
              "\n",
              "    .dataframe tbody tr th {\n",
              "        vertical-align: top;\n",
              "    }\n",
              "\n",
              "    .dataframe thead th {\n",
              "        text-align: right;\n",
              "    }\n",
              "</style>\n",
              "<table border=\"1\" class=\"dataframe\">\n",
              "  <thead>\n",
              "    <tr style=\"text-align: right;\">\n",
              "      <th></th>\n",
              "      <th>param_max_depth</th>\n",
              "      <th>param_min_samples_split</th>\n",
              "      <th>mean_test_score</th>\n",
              "    </tr>\n",
              "  </thead>\n",
              "  <tbody>\n",
              "    <tr>\n",
              "      <th>8</th>\n",
              "      <td>10</td>\n",
              "      <td>10</td>\n",
              "      <td>0.678019</td>\n",
              "    </tr>\n",
              "    <tr>\n",
              "      <th>7</th>\n",
              "      <td>10</td>\n",
              "      <td>5</td>\n",
              "      <td>0.665532</td>\n",
              "    </tr>\n",
              "    <tr>\n",
              "      <th>6</th>\n",
              "      <td>10</td>\n",
              "      <td>2</td>\n",
              "      <td>0.662309</td>\n",
              "    </tr>\n",
              "    <tr>\n",
              "      <th>4</th>\n",
              "      <td>5</td>\n",
              "      <td>5</td>\n",
              "      <td>0.615593</td>\n",
              "    </tr>\n",
              "    <tr>\n",
              "      <th>3</th>\n",
              "      <td>5</td>\n",
              "      <td>2</td>\n",
              "      <td>0.615312</td>\n",
              "    </tr>\n",
              "    <tr>\n",
              "      <th>5</th>\n",
              "      <td>5</td>\n",
              "      <td>10</td>\n",
              "      <td>0.614967</td>\n",
              "    </tr>\n",
              "    <tr>\n",
              "      <th>0</th>\n",
              "      <td>3</td>\n",
              "      <td>2</td>\n",
              "      <td>0.524227</td>\n",
              "    </tr>\n",
              "    <tr>\n",
              "      <th>1</th>\n",
              "      <td>3</td>\n",
              "      <td>5</td>\n",
              "      <td>0.524227</td>\n",
              "    </tr>\n",
              "    <tr>\n",
              "      <th>2</th>\n",
              "      <td>3</td>\n",
              "      <td>10</td>\n",
              "      <td>0.524227</td>\n",
              "    </tr>\n",
              "  </tbody>\n",
              "</table>\n",
              "</div>\n",
              "    <div class=\"colab-df-buttons\">\n",
              "\n",
              "  <div class=\"colab-df-container\">\n",
              "    <button class=\"colab-df-convert\" onclick=\"convertToInteractive('df-b813b3f6-7fce-4eae-a6ff-6b354834672b')\"\n",
              "            title=\"Convert this dataframe to an interactive table.\"\n",
              "            style=\"display:none;\">\n",
              "\n",
              "  <svg xmlns=\"http://www.w3.org/2000/svg\" height=\"24px\" viewBox=\"0 -960 960 960\">\n",
              "    <path d=\"M120-120v-720h720v720H120Zm60-500h600v-160H180v160Zm220 220h160v-160H400v160Zm0 220h160v-160H400v160ZM180-400h160v-160H180v160Zm440 0h160v-160H620v160ZM180-180h160v-160H180v160Zm440 0h160v-160H620v160Z\"/>\n",
              "  </svg>\n",
              "    </button>\n",
              "\n",
              "  <style>\n",
              "    .colab-df-container {\n",
              "      display:flex;\n",
              "      gap: 12px;\n",
              "    }\n",
              "\n",
              "    .colab-df-convert {\n",
              "      background-color: #E8F0FE;\n",
              "      border: none;\n",
              "      border-radius: 50%;\n",
              "      cursor: pointer;\n",
              "      display: none;\n",
              "      fill: #1967D2;\n",
              "      height: 32px;\n",
              "      padding: 0 0 0 0;\n",
              "      width: 32px;\n",
              "    }\n",
              "\n",
              "    .colab-df-convert:hover {\n",
              "      background-color: #E2EBFA;\n",
              "      box-shadow: 0px 1px 2px rgba(60, 64, 67, 0.3), 0px 1px 3px 1px rgba(60, 64, 67, 0.15);\n",
              "      fill: #174EA6;\n",
              "    }\n",
              "\n",
              "    .colab-df-buttons div {\n",
              "      margin-bottom: 4px;\n",
              "    }\n",
              "\n",
              "    [theme=dark] .colab-df-convert {\n",
              "      background-color: #3B4455;\n",
              "      fill: #D2E3FC;\n",
              "    }\n",
              "\n",
              "    [theme=dark] .colab-df-convert:hover {\n",
              "      background-color: #434B5C;\n",
              "      box-shadow: 0px 1px 3px 1px rgba(0, 0, 0, 0.15);\n",
              "      filter: drop-shadow(0px 1px 2px rgba(0, 0, 0, 0.3));\n",
              "      fill: #FFFFFF;\n",
              "    }\n",
              "  </style>\n",
              "\n",
              "    <script>\n",
              "      const buttonEl =\n",
              "        document.querySelector('#df-b813b3f6-7fce-4eae-a6ff-6b354834672b button.colab-df-convert');\n",
              "      buttonEl.style.display =\n",
              "        google.colab.kernel.accessAllowed ? 'block' : 'none';\n",
              "\n",
              "      async function convertToInteractive(key) {\n",
              "        const element = document.querySelector('#df-b813b3f6-7fce-4eae-a6ff-6b354834672b');\n",
              "        const dataTable =\n",
              "          await google.colab.kernel.invokeFunction('convertToInteractive',\n",
              "                                                    [key], {});\n",
              "        if (!dataTable) return;\n",
              "\n",
              "        const docLinkHtml = 'Like what you see? Visit the ' +\n",
              "          '<a target=\"_blank\" href=https://colab.research.google.com/notebooks/data_table.ipynb>data table notebook</a>'\n",
              "          + ' to learn more about interactive tables.';\n",
              "        element.innerHTML = '';\n",
              "        dataTable['output_type'] = 'display_data';\n",
              "        await google.colab.output.renderOutput(dataTable, element);\n",
              "        const docLink = document.createElement('div');\n",
              "        docLink.innerHTML = docLinkHtml;\n",
              "        element.appendChild(docLink);\n",
              "      }\n",
              "    </script>\n",
              "  </div>\n",
              "\n",
              "\n",
              "    <div id=\"df-8662dee1-222b-4e67-a72c-7e52705c5e28\">\n",
              "      <button class=\"colab-df-quickchart\" onclick=\"quickchart('df-8662dee1-222b-4e67-a72c-7e52705c5e28')\"\n",
              "                title=\"Suggest charts\"\n",
              "                style=\"display:none;\">\n",
              "\n",
              "<svg xmlns=\"http://www.w3.org/2000/svg\" height=\"24px\"viewBox=\"0 0 24 24\"\n",
              "     width=\"24px\">\n",
              "    <g>\n",
              "        <path d=\"M19 3H5c-1.1 0-2 .9-2 2v14c0 1.1.9 2 2 2h14c1.1 0 2-.9 2-2V5c0-1.1-.9-2-2-2zM9 17H7v-7h2v7zm4 0h-2V7h2v10zm4 0h-2v-4h2v4z\"/>\n",
              "    </g>\n",
              "</svg>\n",
              "      </button>\n",
              "\n",
              "<style>\n",
              "  .colab-df-quickchart {\n",
              "      --bg-color: #E8F0FE;\n",
              "      --fill-color: #1967D2;\n",
              "      --hover-bg-color: #E2EBFA;\n",
              "      --hover-fill-color: #174EA6;\n",
              "      --disabled-fill-color: #AAA;\n",
              "      --disabled-bg-color: #DDD;\n",
              "  }\n",
              "\n",
              "  [theme=dark] .colab-df-quickchart {\n",
              "      --bg-color: #3B4455;\n",
              "      --fill-color: #D2E3FC;\n",
              "      --hover-bg-color: #434B5C;\n",
              "      --hover-fill-color: #FFFFFF;\n",
              "      --disabled-bg-color: #3B4455;\n",
              "      --disabled-fill-color: #666;\n",
              "  }\n",
              "\n",
              "  .colab-df-quickchart {\n",
              "    background-color: var(--bg-color);\n",
              "    border: none;\n",
              "    border-radius: 50%;\n",
              "    cursor: pointer;\n",
              "    display: none;\n",
              "    fill: var(--fill-color);\n",
              "    height: 32px;\n",
              "    padding: 0;\n",
              "    width: 32px;\n",
              "  }\n",
              "\n",
              "  .colab-df-quickchart:hover {\n",
              "    background-color: var(--hover-bg-color);\n",
              "    box-shadow: 0 1px 2px rgba(60, 64, 67, 0.3), 0 1px 3px 1px rgba(60, 64, 67, 0.15);\n",
              "    fill: var(--button-hover-fill-color);\n",
              "  }\n",
              "\n",
              "  .colab-df-quickchart-complete:disabled,\n",
              "  .colab-df-quickchart-complete:disabled:hover {\n",
              "    background-color: var(--disabled-bg-color);\n",
              "    fill: var(--disabled-fill-color);\n",
              "    box-shadow: none;\n",
              "  }\n",
              "\n",
              "  .colab-df-spinner {\n",
              "    border: 2px solid var(--fill-color);\n",
              "    border-color: transparent;\n",
              "    border-bottom-color: var(--fill-color);\n",
              "    animation:\n",
              "      spin 1s steps(1) infinite;\n",
              "  }\n",
              "\n",
              "  @keyframes spin {\n",
              "    0% {\n",
              "      border-color: transparent;\n",
              "      border-bottom-color: var(--fill-color);\n",
              "      border-left-color: var(--fill-color);\n",
              "    }\n",
              "    20% {\n",
              "      border-color: transparent;\n",
              "      border-left-color: var(--fill-color);\n",
              "      border-top-color: var(--fill-color);\n",
              "    }\n",
              "    30% {\n",
              "      border-color: transparent;\n",
              "      border-left-color: var(--fill-color);\n",
              "      border-top-color: var(--fill-color);\n",
              "      border-right-color: var(--fill-color);\n",
              "    }\n",
              "    40% {\n",
              "      border-color: transparent;\n",
              "      border-right-color: var(--fill-color);\n",
              "      border-top-color: var(--fill-color);\n",
              "    }\n",
              "    60% {\n",
              "      border-color: transparent;\n",
              "      border-right-color: var(--fill-color);\n",
              "    }\n",
              "    80% {\n",
              "      border-color: transparent;\n",
              "      border-right-color: var(--fill-color);\n",
              "      border-bottom-color: var(--fill-color);\n",
              "    }\n",
              "    90% {\n",
              "      border-color: transparent;\n",
              "      border-bottom-color: var(--fill-color);\n",
              "    }\n",
              "  }\n",
              "</style>\n",
              "\n",
              "      <script>\n",
              "        async function quickchart(key) {\n",
              "          const quickchartButtonEl =\n",
              "            document.querySelector('#' + key + ' button');\n",
              "          quickchartButtonEl.disabled = true;  // To prevent multiple clicks.\n",
              "          quickchartButtonEl.classList.add('colab-df-spinner');\n",
              "          try {\n",
              "            const charts = await google.colab.kernel.invokeFunction(\n",
              "                'suggestCharts', [key], {});\n",
              "          } catch (error) {\n",
              "            console.error('Error during call to suggestCharts:', error);\n",
              "          }\n",
              "          quickchartButtonEl.classList.remove('colab-df-spinner');\n",
              "          quickchartButtonEl.classList.add('colab-df-quickchart-complete');\n",
              "        }\n",
              "        (() => {\n",
              "          let quickchartButtonEl =\n",
              "            document.querySelector('#df-8662dee1-222b-4e67-a72c-7e52705c5e28 button');\n",
              "          quickchartButtonEl.style.display =\n",
              "            google.colab.kernel.accessAllowed ? 'block' : 'none';\n",
              "        })();\n",
              "      </script>\n",
              "    </div>\n",
              "\n",
              "    </div>\n",
              "  </div>\n"
            ],
            "application/vnd.google.colaboratory.intrinsic+json": {
              "type": "dataframe",
              "summary": "{\n  \"name\": \"results_df\",\n  \"rows\": 9,\n  \"fields\": [\n    {\n      \"column\": \"param_max_depth\",\n      \"properties\": {\n        \"dtype\": \"number\",\n        \"std\": 3,\n        \"min\": 3,\n        \"max\": 10,\n        \"num_unique_values\": 3,\n        \"samples\": [\n          10,\n          5,\n          3\n        ],\n        \"semantic_type\": \"\",\n        \"description\": \"\"\n      }\n    },\n    {\n      \"column\": \"param_min_samples_split\",\n      \"properties\": {\n        \"dtype\": \"number\",\n        \"std\": 3,\n        \"min\": 2,\n        \"max\": 10,\n        \"num_unique_values\": 3,\n        \"samples\": [\n          10,\n          5,\n          2\n        ],\n        \"semantic_type\": \"\",\n        \"description\": \"\"\n      }\n    },\n    {\n      \"column\": \"mean_test_score\",\n      \"properties\": {\n        \"dtype\": \"number\",\n        \"std\": 0.06336784852911558,\n        \"min\": 0.5242267436606125,\n        \"max\": 0.6780187734152876,\n        \"num_unique_values\": 7,\n        \"samples\": [\n          0.6780187734152876,\n          0.665532085125171,\n          0.6149667064851575\n        ],\n        \"semantic_type\": \"\",\n        \"description\": \"\"\n      }\n    }\n  ]\n}"
            }
          },
          "metadata": {},
          "execution_count": 5
        }
      ],
      "source": [
        "# Mostrar resultados detallados\n",
        "results_df = pd.DataFrame(grid.cv_results_)\n",
        "results_df = results_df[['param_max_depth', 'param_min_samples_split', 'mean_test_score']]\n",
        "results_df.sort_values(by='mean_test_score', ascending=False)"
      ]
    },
    {
      "cell_type": "markdown",
      "id": "6f36916d",
      "metadata": {
        "id": "6f36916d"
      },
      "source": [
        "## Interpretación\n",
        "\n",
        "*  El mejor desempeño del modelo, medido por el promedio de R² en validación cruzada (mean_test_score), se obtuvo con la combinación max_depth = 10 y min_samples_split = 10, alcanzando un valor de 0.6780. Esto indica que, en promedio, el modelo fue capaz de explicar aproximadamente el 67.8 % de la variabilidad en los datos de validación.\n",
        "\n",
        "* Se observa que aumentar la profundidad del árbol (hasta 10) mejora el rendimiento respecto a configuraciones más superficiales (max_depth = 3 o 5), lo que sugiere que el problema requiere una mayor capacidad de modelado para capturar relaciones no lineales en los datos.\n",
        "\n",
        "* La configuración óptima también requiere que se realicen divisiones internas del árbol solo cuando haya al menos 10 muestras, lo cual puede ayudar a reducir el sobreajuste al evitar nodos muy específicos.\n",
        "\n",
        "* Este procedimiento con GridSearchCV permite comparar de forma sistemática múltiples combinaciones de hiperparámetros y seleccionar la más adecuada con base en un criterio de desempeño validado. Es especialmente útil en contextos donde se busca maximizar la capacidad de generalización del modelo."
      ]
    }
  ],
  "metadata": {
    "colab": {
      "provenance": [],
      "include_colab_link": true
    },
    "language_info": {
      "name": "python"
    },
    "kernelspec": {
      "name": "python3",
      "display_name": "Python 3"
    }
  },
  "nbformat": 4,
  "nbformat_minor": 5
}