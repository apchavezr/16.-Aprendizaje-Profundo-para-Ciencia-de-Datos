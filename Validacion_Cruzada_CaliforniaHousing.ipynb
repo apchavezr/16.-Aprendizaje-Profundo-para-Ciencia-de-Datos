{
  "cells": [
    {
      "cell_type": "markdown",
      "metadata": {
        "id": "view-in-github",
        "colab_type": "text"
      },
      "source": [
        "<a href=\"https://colab.research.google.com/github/apchavezr/16.-Aprendizaje-Profundo-para-Ciencia-de-Datos/blob/main/Validacion_Cruzada_CaliforniaHousing.ipynb\" target=\"_parent\"><img src=\"https://colab.research.google.com/assets/colab-badge.svg\" alt=\"Open In Colab\"/></a>"
      ]
    },
    {
      "cell_type": "markdown",
      "id": "e668d63a",
      "metadata": {
        "id": "e668d63a"
      },
      "source": [
        "# Validación cruzada con Scikit-learn\n",
        "\n",
        "## Objetivo\n",
        "Aplicar validación cruzada con K pliegues (K-fold cross-validation) para estimar el desempeño de un modelo de regresión, utilizando el conjunto de datos California Housing."
      ]
    },
    {
      "cell_type": "code",
      "execution_count": 1,
      "id": "7971e414",
      "metadata": {
        "id": "7971e414"
      },
      "outputs": [],
      "source": [
        "# Importar bibliotecas necesarias\n",
        "from sklearn.datasets import fetch_california_housing\n",
        "from sklearn.tree import DecisionTreeRegressor\n",
        "from sklearn.model_selection import cross_val_score\n",
        "import numpy as np"
      ]
    },
    {
      "cell_type": "markdown",
      "id": "3bec631b",
      "metadata": {
        "id": "3bec631b"
      },
      "source": [
        "## Paso 1: cargar y preparar los datos"
      ]
    },
    {
      "cell_type": "code",
      "execution_count": 2,
      "id": "d8c75ce8",
      "metadata": {
        "id": "d8c75ce8"
      },
      "outputs": [],
      "source": [
        "# Cargar el conjunto de datos\n",
        "X, y = fetch_california_housing(return_X_y=True)"
      ]
    },
    {
      "cell_type": "markdown",
      "id": "a64bafde",
      "metadata": {
        "id": "a64bafde"
      },
      "source": [
        "## Paso 2: definir el modelo"
      ]
    },
    {
      "cell_type": "code",
      "execution_count": 3,
      "id": "233370c4",
      "metadata": {
        "id": "233370c4"
      },
      "outputs": [],
      "source": [
        "# Crear el modelo de árbol de regresión\n",
        "model = DecisionTreeRegressor(random_state=42)"
      ]
    },
    {
      "cell_type": "markdown",
      "id": "52e9f61b",
      "metadata": {
        "id": "52e9f61b"
      },
      "source": [
        "## Paso 3: aplicar validación cruzada"
      ]
    },
    {
      "cell_type": "code",
      "execution_count": 4,
      "id": "5e840ef8",
      "metadata": {
        "colab": {
          "base_uri": "https://localhost:8080/"
        },
        "id": "5e840ef8",
        "outputId": "dfb2c987-b1af-4176-f30c-5e5547fe46fc"
      },
      "outputs": [
        {
          "output_type": "stream",
          "name": "stdout",
          "text": [
            "R² por fold: [0.27093461 0.41372445 0.43912441 0.23566991 0.41875969]\n",
            "Promedio R²: 0.355642615410327\n"
          ]
        }
      ],
      "source": [
        "# Validación cruzada con 5 folds, usando R² como métrica\n",
        "scores = cross_val_score(model, X, y, cv=5, scoring='r2')\n",
        "\n",
        "# Mostrar resultados por fold y promedio\n",
        "print(\"R² por fold:\", scores)\n",
        "print(\"Promedio R²:\", scores.mean())"
      ]
    },
    {
      "cell_type": "markdown",
      "id": "15fdcf97",
      "metadata": {
        "id": "15fdcf97"
      },
      "source": [
        "## Interpretación\n",
        "* El modelo tiene rendimiento consistente entre pliegues, lo que sugiere estabilidad.\n",
        "\n",
        "* Un promedio R² de 0.3556 indica que hay espacio para mejorar el modelo (por ejemplo, ajustando hiperparámetros, probando otros algoritmos o incorporando ingeniería de características).\n",
        "\n",
        "* La validación cruzada ha permitido estimar el rendimiento sin depender de una única división entrenamiento/prueba, lo que reduce el sesgo de evaluación."
      ]
    },
    {
      "cell_type": "markdown",
      "id": "f80f41f4",
      "metadata": {
        "id": "f80f41f4"
      },
      "source": [
        "## Recomendaciones\n",
        "- Para mayor estabilidad, se puede aumentar el número de folds (`cv=10`).\n",
        "- Utilice otras métricas (`accuracy`, `f1`, `neg_mean_squared_error`, etc.) dependiendo del tipo de problema.\n",
        "- Esta técnica es útil tanto en regresión como en clasificación."
      ]
    }
  ],
  "metadata": {
    "colab": {
      "provenance": [],
      "include_colab_link": true
    },
    "language_info": {
      "name": "python"
    },
    "kernelspec": {
      "name": "python3",
      "display_name": "Python 3"
    }
  },
  "nbformat": 4,
  "nbformat_minor": 5
}