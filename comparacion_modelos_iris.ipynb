{
  "cells": [
    {
      "cell_type": "markdown",
      "metadata": {
        "id": "view-in-github",
        "colab_type": "text"
      },
      "source": [
        "<a href=\"https://colab.research.google.com/github/apchavezr/16.-Aprendizaje-Profundo-para-Ciencia-de-Datos/blob/main/comparacion_modelos_iris.ipynb\" target=\"_parent\"><img src=\"https://colab.research.google.com/assets/colab-badge.svg\" alt=\"Open In Colab\"/></a>"
      ]
    },
    {
      "cell_type": "markdown",
      "metadata": {
        "id": "XnfvGiTmDnBE"
      },
      "source": [
        "# Ejercicio comparativo: modelo tradicional vs red neuronal profunda\n",
        "\n",
        "Este cuaderno permite comparar dos enfoques de aprendizaje supervisado sobre el conjunto de datos Iris:\n",
        "\n",
        "- Modelo tradicional: regresión logística\n",
        "- Modelo profundo: red neuronal multicapa (MLP)\n",
        "\n",
        "Se evalúan precisión, tiempo de entrenamiento, complejidad e interpretabilidad."
      ]
    },
    {
      "cell_type": "markdown",
      "source": [
        "En este ejercicio se utiliza el conjunto de datos Iris, un clásico en el aprendizaje automático. Contiene 150 observaciones de flores de iris pertenecientes a tres especies (setosa, versicolor y virginica), con cuatro características numéricas por muestra: largo y ancho del sépalo, y largo y ancho del pétalo (en centímetros). Es un conjunto estructurado, de tamaño pequeño y fácilmente interpretable, lo que lo hace ideal para comparar modelos de clasificación supervisada."
      ],
      "metadata": {
        "id": "98ccSEpaEEPo"
      }
    },
    {
      "cell_type": "code",
      "execution_count": 1,
      "metadata": {
        "id": "zjPcxmMgDnBH"
      },
      "outputs": [],
      "source": [
        "# Paso 1: Preparación de entorno y carga del dataset\n",
        "from sklearn.datasets import load_iris\n",
        "from sklearn.model_selection import train_test_split\n",
        "from sklearn.preprocessing import StandardScaler\n",
        "import matplotlib.pyplot as plt\n",
        "\n",
        "# Cargar y escalar\n",
        "iris = load_iris()\n",
        "X = iris.data\n",
        "y = iris.target\n",
        "target_names = iris.target_names\n",
        "\n",
        "scaler = StandardScaler()\n",
        "X_scaled = scaler.fit_transform(X)\n",
        "X_train, X_test, y_train, y_test = train_test_split(X_scaled, y, test_size=0.2, random_state=42)"
      ]
    },
    {
      "cell_type": "code",
      "execution_count": 2,
      "metadata": {
        "colab": {
          "base_uri": "https://localhost:8080/"
        },
        "id": "mqppbRndDnBJ",
        "outputId": "847b1678-48fd-4b23-b8d5-5b1a136f8663"
      },
      "outputs": [
        {
          "output_type": "stream",
          "name": "stdout",
          "text": [
            "Precisión Regresión Logística: 1.0\n",
            "Tiempo de entrenamiento: 0.0249 segundos\n",
            "Reporte de clasificación:\n",
            "               precision    recall  f1-score   support\n",
            "\n",
            "      setosa       1.00      1.00      1.00        10\n",
            "  versicolor       1.00      1.00      1.00         9\n",
            "   virginica       1.00      1.00      1.00        11\n",
            "\n",
            "    accuracy                           1.00        30\n",
            "   macro avg       1.00      1.00      1.00        30\n",
            "weighted avg       1.00      1.00      1.00        30\n",
            "\n"
          ]
        }
      ],
      "source": [
        "# Paso 2: Modelo tradicional - Regresión logística\n",
        "from sklearn.linear_model import LogisticRegression\n",
        "from sklearn.metrics import accuracy_score, classification_report\n",
        "import time\n",
        "\n",
        "start_time = time.time()\n",
        "logreg = LogisticRegression(max_iter=200)\n",
        "logreg.fit(X_train, y_train)\n",
        "y_pred_logreg = logreg.predict(X_test)\n",
        "logreg_time = time.time() - start_time\n",
        "\n",
        "print(\"Precisión Regresión Logística:\", accuracy_score(y_test, y_pred_logreg))\n",
        "print(\"Tiempo de entrenamiento:\", round(logreg_time, 4), \"segundos\")\n",
        "print(\"Reporte de clasificación:\\n\", classification_report(y_test, y_pred_logreg, target_names=target_names))"
      ]
    },
    {
      "cell_type": "markdown",
      "source": [
        "**Precisión Regresión Logística: 1.0**\n",
        "\n",
        "La **precisión (accuracy)** es del **100 %**, lo que significa que el modelo clasificó correctamente todas las muestras del conjunto de prueba. Esto es posible en el Iris Dataset porque es un conjunto pequeño, balanceado y bien separado entre clases.\n",
        "\n",
        "\n",
        "**Reporte de clasificación**\n",
        "\n",
        "* **Precision**: proporción de predicciones correctas dentro de las clasificadas como esa clase.\n",
        "* **Recall**: proporción de verdaderos positivos detectados dentro de los ejemplos reales de esa clase.\n",
        "* **F1-score**: promedio armónico de precisión y recall (también 1.00 en todos los casos).\n",
        "* **Support**: número de muestras reales de cada clase en el conjunto de prueba.\n",
        "\n",
        "**Conclusión**\n",
        "\n",
        "Este resultado evidencia que la **regresión logística es capaz de lograr una clasificación perfecta en Iris**, lo que refuerza la idea de que **no siempre es necesario usar modelos complejos como redes neuronales** para tareas simples o bien definidas. También muestra que los modelos tradicionales pueden ser más interpretables, rápidos y adecuados en ciertos contextos.\n"
      ],
      "metadata": {
        "id": "IviRFtxmEw2s"
      }
    },
    {
      "cell_type": "code",
      "execution_count": 3,
      "metadata": {
        "colab": {
          "base_uri": "https://localhost:8080/"
        },
        "id": "uqEH_1JiDnBK",
        "outputId": "1e7dcbd5-44ec-44c8-cd4a-c25a8850294d"
      },
      "outputs": [
        {
          "output_type": "stream",
          "name": "stderr",
          "text": [
            "/usr/local/lib/python3.11/dist-packages/keras/src/layers/core/dense.py:87: UserWarning: Do not pass an `input_shape`/`input_dim` argument to a layer. When using Sequential models, prefer using an `Input(shape)` object as the first layer in the model instead.\n",
            "  super().__init__(activity_regularizer=activity_regularizer, **kwargs)\n"
          ]
        },
        {
          "output_type": "stream",
          "name": "stdout",
          "text": [
            "Precisión MLP: 1.0\n",
            "Tiempo de entrenamiento: 11.007 segundos\n"
          ]
        }
      ],
      "source": [
        "# Paso 3: Modelo profundo - Red neuronal MLP\n",
        "import tensorflow as tf\n",
        "from tensorflow.keras.models import Sequential\n",
        "from tensorflow.keras.layers import Dense\n",
        "from tensorflow.keras.utils import to_categorical\n",
        "\n",
        "# Codificar etiquetas\n",
        "y_train_cat = to_categorical(y_train, num_classes=3)\n",
        "y_test_cat = to_categorical(y_test, num_classes=3)\n",
        "\n",
        "model = Sequential()\n",
        "model.add(Dense(16, activation='relu', input_shape=(X.shape[1],)))\n",
        "model.add(Dense(8, activation='relu'))\n",
        "model.add(Dense(3, activation='softmax'))\n",
        "\n",
        "model.compile(optimizer='adam', loss='categorical_crossentropy', metrics=['accuracy'])\n",
        "\n",
        "start_time = time.time()\n",
        "history = model.fit(X_train, y_train_cat, epochs=50, batch_size=8, verbose=0)\n",
        "mlp_time = time.time() - start_time\n",
        "\n",
        "loss, accuracy = model.evaluate(X_test, y_test_cat, verbose=0)\n",
        "print(\"Precisión MLP:\", round(accuracy, 4))\n",
        "print(\"Tiempo de entrenamiento:\", round(mlp_time, 4), \"segundos\")"
      ]
    },
    {
      "cell_type": "code",
      "execution_count": 4,
      "metadata": {
        "colab": {
          "base_uri": "https://localhost:8080/",
          "height": 453
        },
        "id": "N4VUfTm7DnBL",
        "outputId": "faaeb07c-de9e-4ba0-fd21-10c98c5d9c00"
      },
      "outputs": [
        {
          "output_type": "display_data",
          "data": {
            "text/plain": [
              "<Figure size 640x480 with 1 Axes>"
            ],
            "image/png": "[encoded data removed]"
          },
          "metadata": {}
        }
      ],
      "source": [
        "# Paso 4: Comparación gráfica\n",
        "labels = ['Precisión', 'Tiempo de entrenamiento (s)']\n",
        "logreg_vals = [accuracy_score(y_test, y_pred_logreg), logreg_time]\n",
        "mlp_vals = [accuracy, mlp_time]\n",
        "\n",
        "x = range(len(labels))\n",
        "plt.bar(x, logreg_vals, width=0.4, label='Regresión Logística', align='center')\n",
        "plt.bar([p + 0.4 for p in x], mlp_vals, width=0.4, label='MLP', align='center')\n",
        "plt.xticks([p + 0.2 for p in x], labels)\n",
        "plt.ylabel('Valor')\n",
        "plt.title('Comparación de modelos')\n",
        "plt.legend()\n",
        "plt.show()"
      ]
    },
    {
      "cell_type": "markdown",
      "source": [
        "Análisis de la gráfica\n",
        "\n",
        "    Precisión:\n",
        "    Ambas barras (azul y naranja) alcanzan aproximadamente\n",
        "    el mismo valor (~1.0), lo que indica que los dos\n",
        "    modelos clasificaron correctamente todas las\n",
        "    muestras del conjunto de prueba.\n",
        "\n",
        "    Tiempo de entrenamiento:\n",
        "    Aquí se evidencian diferencias significativas:\n",
        "\n",
        "        La regresión logística tiene un tiempo de entrenamiento casi nulo (barra azul muy baja).\n",
        "\n",
        "        El MLP (naranja) requirió más de 10 segundos, lo cual es varios órdenes de magnitud superior.\n",
        "\n",
        "Este gráfico ilustra que, aunque ambos modelos alcanzan la misma precisión, el modelo tradicional es mucho más eficiente computacionalmente en este contexto. Esto refuerza una lección importante:\n",
        "\n",
        "    “Modelos más complejos como las redes neuronales\n",
        "    no siempre son la mejor opción, especialmente cuando\n",
        "    se trabaja con conjuntos de datos estructurados, pequeños\n",
        "    y bien definidos como Iris.”"
      ],
      "metadata": {
        "id": "hBm9kQhJFwmV"
      }
    },
    {
      "cell_type": "markdown",
      "metadata": {
        "id": "KUCFsKE3DnBM"
      },
      "source": [
        "## Conclusión\n",
        "\n",
        "Este ejercicio demuestra que en conjuntos estructurados pequeños como Iris, un modelo tradicional como la regresión logística puede igualar o superar el rendimiento de un modelo profundo, con menor tiempo de entrenamiento y mayor interpretabilidad.\n",
        "\n",
        "Se sugiere repetir el ejercicio con un conjunto de datos como Fashion MNIST para observar cómo cambian los resultados a favor de las redes profundas cuando se incrementa la complejidad del problema."
      ]
    }
  ],
  "metadata": {
    "kernelspec": {
      "display_name": "Python 3",
      "language": "python",
      "name": "python3"
    },
    "language_info": {
      "name": "python",
      "version": ""
    },
    "colab": {
      "provenance": [],
      "include_colab_link": true
    }
  },
  "nbformat": 4,
  "nbformat_minor": 0
}