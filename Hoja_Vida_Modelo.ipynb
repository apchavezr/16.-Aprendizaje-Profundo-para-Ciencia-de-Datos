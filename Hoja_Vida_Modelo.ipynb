{
  "cells": [
    {
      "cell_type": "markdown",
      "metadata": {
        "id": "view-in-github",
        "colab_type": "text"
      },
      "source": [
        "<a href=\"https://colab.research.google.com/github/apchavezr/16.-Aprendizaje-Profundo-para-Ciencia-de-Datos/blob/main/Hoja_Vida_Modelo.ipynb\" target=\"_parent\"><img src=\"https://colab.research.google.com/assets/colab-badge.svg\" alt=\"Open In Colab\"/></a>"
      ]
    },
    {
      "cell_type": "markdown",
      "id": "9854608f",
      "metadata": {
        "id": "9854608f"
      },
      "source": [
        "# Ejemplo: hoja de vida técnica de un modelo `modelo.h5`\n",
        "**Fecha de generación:** 2025-07-07\n",
        "**Versión del modelo:** v1.0\n",
        "**Responsable:** Patricia Chávez\n"
      ]
    },
    {
      "cell_type": "markdown",
      "id": "547df4b6",
      "metadata": {
        "id": "547df4b6"
      },
      "source": [
        "## Propósito del modelo\n",
        "Clasificación binaria a partir de variables estructuradas. Entrenado con Keras y desplegado con Flask.\n"
      ]
    },
    {
      "cell_type": "markdown",
      "id": "6e5884e4",
      "metadata": {
        "id": "6e5884e4"
      },
      "source": [
        "## Detalles del entrenamiento\n",
        "- **Dataset:** tipo estructurado (ej. Iris)\n",
        "- **Preprocesamiento:** Normalización estándar y división 80/20\n",
        "- **Arquitectura:**\n",
        "  - Dense(32, activation='relu')\n",
        "  - Dense(16, activation='relu')\n",
        "  - Dense(1, activation='sigmoid')\n",
        "- **Parámetros de entrenamiento:**\n",
        "  - Epochs: 20\n",
        "  - Batch size: 16\n",
        "  - EarlyStopping con paciencia = 3"
      ]
    },
    {
      "cell_type": "markdown",
      "id": "7e49584f",
      "metadata": {
        "id": "7e49584f"
      },
      "source": [
        "## Desempeño del modelo\n",
        "| Conjunto         | Accuracy | Loss | AUC  |\n",
        "|------------------|----------|------|------|\n",
        "| Entrenamiento    | 0.98     | 0.03 | 0.99 |\n",
        "| Validación       | 0.96     | 0.08 | 0.98 |\n",
        "| Prueba (Hold-out)| 0.95     | 0.09 | 0.97 |\n"
      ]
    },
    {
      "cell_type": "markdown",
      "id": "5b85b27e",
      "metadata": {
        "id": "5b85b27e"
      },
      "source": [
        "## Decisiones clave\n",
        "- Se usó `EarlyStopping` para prevenir sobreajuste.\n",
        "- Arquitectura simple para eficiencia.\n",
        "- Modelo `h5` para compatibilidad con Flask.\n",
        "- Dataset balanceado.\n"
      ]
    },
    {
      "cell_type": "markdown",
      "id": "0af068ac",
      "metadata": {
        "id": "0af068ac"
      },
      "source": [
        "## Control de versiones\n",
        "- Script de entrenamiento: `entrenamiento_modelo.py`\n",
        "- Script de inferencia: `app.py`\n",
        "- Archivo del modelo: `modelo.h5`\n",
        "- SHA256: `a6c1f9...` (simulado)\n",
        "- Entorno: `requirements.txt`"
      ]
    },
    {
      "cell_type": "markdown",
      "id": "ea452c73",
      "metadata": {
        "id": "ea452c73"
      },
      "source": [
        "## Validación\n",
        "- Pruebas unitarias: `pytest`\n",
        "- Pruebas funcionales: simulación de entrada JSON\n",
        "- Validación cruzada no implementada"
      ]
    },
    {
      "cell_type": "markdown",
      "id": "1d6aa9e2",
      "metadata": {
        "id": "1d6aa9e2"
      },
      "source": [
        "## Despliegue\n",
        "- Docker con Python + Flask + TensorFlow\n",
        "- Endpoint: `/predict` (POST)\n",
        "- Monitoreo: logs básicos\n",
        "- Futuro: Prometheus, explicabilidad con SHAP"
      ]
    }
  ],
  "metadata": {
    "colab": {
      "provenance": [],
      "include_colab_link": true
    }
  },
  "nbformat": 4,
  "nbformat_minor": 5
}